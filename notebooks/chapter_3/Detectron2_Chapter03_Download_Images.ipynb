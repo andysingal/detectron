{
  "nbformat": 4,
  "nbformat_minor": 0,
  "metadata": {
    "colab": {
      "provenance": [],
      "mount_file_id": "1Dq-vZ8cBZn1mwY-oBFzhhJCBQHBH7Yz8",
      "authorship_tag": "ABX9TyNmqwPC0/uZ15HeYDgzzQG2",
      "include_colab_link": true
    },
    "kernelspec": {
      "name": "python3",
      "display_name": "Python 3"
    },
    "language_info": {
      "name": "python"
    }
  },
  "cells": [
    {
      "cell_type": "markdown",
      "metadata": {
        "id": "view-in-github",
        "colab_type": "text"
      },
      "source": [
        "<a href=\"https://colab.research.google.com/github/PacktPublishing/Hands-On-Computer-Vision-with-Detectron2/blob/main/Chapter03/Detectron2_Chapter03_Download_Images.ipynb\" target=\"_parent\"><img src=\"https://colab.research.google.com/assets/colab-badge.svg\" alt=\"Open In Colab\"/></a>"
      ]
    },
    {
      "cell_type": "code",
      "source": [
        "!pip install simple_image_download"
      ],
      "metadata": {
        "colab": {
          "base_uri": "https://localhost:8080/"
        },
        "id": "4aT_QLagko3N",
        "outputId": "65ec1db1-dd0c-4d90-f00c-4fafd334c0ef"
      },
      "execution_count": null,
      "outputs": [
        {
          "output_type": "stream",
          "name": "stdout",
          "text": [
            "Looking in indexes: https://pypi.org/simple, https://us-python.pkg.dev/colab-wheels/public/simple/\n",
            "Collecting simple_image_download\n",
            "  Downloading simple_image_download-0.5-py3-none-any.whl (7.0 kB)\n",
            "Requirement already satisfied: requests in /usr/local/lib/python3.7/dist-packages (from simple_image_download) (2.23.0)\n",
            "Collecting progressbar\n",
            "  Downloading progressbar-2.5.tar.gz (10 kB)\n",
            "Collecting simple_image_download\n",
            "  Downloading simple_image_download-0.4-py3-none-any.whl (4.9 kB)\n",
            "  Downloading simple_image_download-0.2-py3-none-any.whl (3.8 kB)\n",
            "Requirement already satisfied: urllib3!=1.25.0,!=1.25.1,<1.26,>=1.21.1 in /usr/local/lib/python3.7/dist-packages (from requests->simple_image_download) (1.24.3)\n",
            "Requirement already satisfied: certifi>=2017.4.17 in /usr/local/lib/python3.7/dist-packages (from requests->simple_image_download) (2022.6.15)\n",
            "Requirement already satisfied: idna<3,>=2.5 in /usr/local/lib/python3.7/dist-packages (from requests->simple_image_download) (2.10)\n",
            "Requirement already satisfied: chardet<4,>=3.0.2 in /usr/local/lib/python3.7/dist-packages (from requests->simple_image_download) (3.0.4)\n",
            "Installing collected packages: simple-image-download\n",
            "Successfully installed simple-image-download-0.2\n"
          ]
        }
      ]
    },
    {
      "cell_type": "code",
      "source": [
        "import os\n",
        "from google.colab import drive\n",
        "drive.mount('/gdrive')\n",
        "project_folder = \"/gdrive/My Drive/Detectron2/Chapter3\"\n",
        "os.makedirs(project_folder, exist_ok=True)"
      ],
      "metadata": {
        "colab": {
          "base_uri": "https://localhost:8080/"
        },
        "id": "1QEXNbtpcOg_",
        "outputId": "3b3a782e-0863-4731-ad7d-177b489ccf61"
      },
      "execution_count": null,
      "outputs": [
        {
          "output_type": "stream",
          "name": "stdout",
          "text": [
            "Mounted at /gdrive\n"
          ]
        }
      ]
    },
    {
      "cell_type": "code",
      "source": [
        "cd \"/gdrive/My Drive/Detectron2/Chapter3\""
      ],
      "metadata": {
        "colab": {
          "base_uri": "https://localhost:8080/"
        },
        "id": "QXXtGhNacOg_",
        "outputId": "91dde671-52da-4ea2-a23b-571d8900af2d"
      },
      "execution_count": null,
      "outputs": [
        {
          "output_type": "stream",
          "name": "stdout",
          "text": [
            "/gdrive/My Drive/Detectron2/Chapter3\n"
          ]
        }
      ]
    },
    {
      "cell_type": "code",
      "source": [
        "pwd()"
      ],
      "metadata": {
        "colab": {
          "base_uri": "https://localhost:8080/",
          "height": 35
        },
        "id": "3YbOqKxgdCxR",
        "outputId": "79d4ad93-436c-437d-be8c-ad1e7fda1663"
      },
      "execution_count": null,
      "outputs": [
        {
          "output_type": "execute_result",
          "data": {
            "text/plain": [
              "'/gdrive/My Drive/Detectron2/Chapter3'"
            ],
            "application/vnd.google.colaboratory.intrinsic+json": {
              "type": "string"
            }
          },
          "metadata": {},
          "execution_count": 4
        }
      ]
    },
    {
      "cell_type": "code",
      "source": [
        "from simple_image_download.simple_image_download import simple_image_download as Downloader\n",
        "from tqdm import tqdm\n",
        "def _download(keyword, limit):\n",
        "  downloader = Downloader()\n",
        "  # download images\n",
        "  downloader.download(keywords=keyword, limit=limit)\n",
        "  # return the urls\n",
        "  urls = downloader.urls(keywords=keyword, limit=limit)\n",
        "  return urls\n",
        "\n",
        "def download(keywords, limit):\n",
        "  for keyword in tqdm(keywords):\n",
        "    urls = _download(keyword=keyword, limit=limit)\n",
        "    with open(f\"simple_images/{keyword}.txt\", \"w\") as f:\n",
        "      f.writelines('\\n'.join(urls))\n",
        "  \n"
      ],
      "metadata": {
        "id": "mDHvL7mHp7rK"
      },
      "execution_count": null,
      "outputs": []
    },
    {
      "cell_type": "code",
      "source": [
        "download(keywords=[\"brain tumors x-ray\", \"heart tumors x-ray\"], limit=10)"
      ],
      "metadata": {
        "id": "dO87EqwtqC4p",
        "colab": {
          "base_uri": "https://localhost:8080/"
        },
        "outputId": "8bb7d460-c00f-4a3e-9a8c-3a8395cc08e2"
      },
      "execution_count": null,
      "outputs": [
        {
          "output_type": "stream",
          "name": "stderr",
          "text": [
            "100%|██████████| 2/2 [00:09<00:00,  4.74s/it]\n"
          ]
        }
      ]
    },
    {
      "cell_type": "code",
      "source": [],
      "metadata": {
        "id": "Tip93dUZqTIv"
      },
      "execution_count": null,
      "outputs": []
    }
  ]
}
